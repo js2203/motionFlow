{
 "cells": [
  {
   "cell_type": "markdown",
   "id": "2bcc9f96",
   "metadata": {},
   "source": [
    "# Code"
   ]
  },
  {
   "cell_type": "markdown",
   "id": "7f9fe246",
   "metadata": {},
   "source": [
    "![example](./images/example1.png) "
   ]
  },
  {
   "cell_type": "markdown",
   "id": "720e0154",
   "metadata": {},
   "source": [
    "## Motion Flow berechnen"
   ]
  },
  {
   "cell_type": "code",
   "execution_count": null,
   "id": "97528755",
   "metadata": {},
   "outputs": [],
   "source": [
    "import caffe\n",
    "import sys, os\n",
    "import numpy as np\n",
    "import scipy.io\n",
    "from PIL import Image\n",
    "from sklearn.preprocessing import LabelEncoder\n",
    "import timeit\n",
    "\n",
    "model = 'model/fcn_blur2mflow.caffemodel'\n",
    "img_mean = (111.64, 113.53, 93.96)\n",
    "net = caffe.Net('model/fcn_blur2mflow.prototxt', model, caffe.TEST)\n",
    "\n",
    "le_u = LabelEncoder()\n",
    "le_v = LabelEncoder()\n",
    "le_u.classes_ = np.loadtxt('model/labels_u.txt')\n",
    "le_v.classes_ = np.loadtxt('model/labels_v.txt')\n",
    "\n",
    "# load image, switch to BGR, subtract mean, and make dims C x H x W for Caffe\n",
    "im = Image.open(sys.argv[1])\n",
    "in_ = np.array(im, dtype=np.float32)\n",
    "in_ = in_[:,:,::-1]\n",
    "in_ -= img_mean\n",
    "in_ = in_.transpose((2,0,1))\n",
    "\n",
    "# shape for input (data blob is N x C x H x W), set data\n",
    "net.blobs['data'].reshape(1, *in_.shape)\n",
    "net.blobs['data'].data[...] = in_\n",
    "# run net and take argmax for prediction\n",
    "net.forward()\n",
    "mf1 = net.blobs['score1'].data[0].argmax(0)\n",
    "mf2 = net.blobs['score2'].data[0].argmax(0)\n",
    "\n",
    "mf1 = le_u.inverse_transform(mf1.flatten()).reshape(mf1.shape)\n",
    "mf2 = le_v.inverse_transform(mf2.flatten()).reshape(mf2.shape)\n",
    "\n",
    "mfmap = np.stack((mf1, mf2)).transpose((1, 2, 0))\n",
    "\n",
    "\n",
    "scipy.io.savemat(sys.argv[2], {'mfmap': mfmap})"
   ]
  },
  {
   "cell_type": "markdown",
   "id": "b870ff72",
   "metadata": {},
   "source": [
    "## Motion Flow darstellen"
   ]
  },
  {
   "cell_type": "code",
   "execution_count": null,
   "id": "bbf589e2",
   "metadata": {},
   "outputs": [],
   "source": [
    "% draw motion field over images\n",
    "function im_mfmap = draw_mfmap(img, mag, ori)\n",
    "% img: blurred image.\n",
    "% [mag, ori]: motion flow in \"magnitude + orientation\" format.\n",
    "[r,c,d] = size(img);\n",
    "inte = 21;\n",
    "if d > 1\n",
    "    img = double((rgb2gray(uint8(img)))) / 255;\n",
    "end\n",
    "im_mfmap(:,:,1) = 0.7 * 1 + 0.4 * img;\n",
    "im_mfmap(:,:,2) = 0.7 * 1 + 0.4 * img;\n",
    "im_mfmap(:,:,3) = 0.7 * 1 + 0.4 * img;\n",
    "ori = 90 - ori;\n",
    "rec_wid = 1;\n",
    "for i = inte : inte : r - inte\n",
    "    for j = inte : inte : c - inte\n",
    "        l = max(mag(i, j), 1);\n",
    "        o = ori(i, j);\n",
    "\n",
    "        ft = ((fspecial('motion', l, o)));\n",
    "        kkk = fspecial('average', 2);\n",
    "        ft = conv2(ft, kkk, 'same');\n",
    "        \n",
    "        \n",
    "        ft = ft / max(ft(:));\n",
    "        [w,h] = size(ft);\n",
    "        \n",
    "        [xs, ys] = find(ft > 0);\n",
    "        ids_ker = sub2ind([w,h], xs, ys);\n",
    "        xs = xs - (w+1) / 2;\n",
    "        ys = ys - (h+1) / 2;\n",
    "        ids_img = sub2ind([r,c], i + xs, j + ys);\n",
    "        \n",
    "        im_mfmap(ids_img) = 1 * ft(ids_ker) + (1 - ft(ids_ker)) .* im_mfmap(ids_img);\n",
    "        im_mfmap(ids_img + r * c) = (1 - ft(ids_ker)) .* im_mfmap(ids_img + r * c);\n",
    "        im_mfmap(ids_img + 2 * r * c) = (1 - ft(ids_ker)) .* im_mfmap(ids_img + 2 * r * c);\n",
    "        \n",
    "        % draw a rectangle around the centered pixel\n",
    "        if(0)\n",
    "            for pp = i - rec_wid : i +  rec_wid\n",
    "                for qq = j - rec_wid : j + rec_wid\n",
    "                    imMotion(pp, qq, 1) = 0;\n",
    "                    imMotion(pp, qq, 2) = 0;\n",
    "                    imMotion(pp, qq, 3) = 1;  \n",
    "                end\n",
    "            end\n",
    "        end\n",
    "        im_mfmap(i, j, 1) = 0;\n",
    "        im_mfmap(i, j, 2) = 0.5;\n",
    "        im_mfmap(i, j, 3) = 0;\n",
    "    end\n",
    "end"
   ]
  },
  {
   "cell_type": "markdown",
   "id": "ce3d06eb",
   "metadata": {},
   "source": [
    "![example1_hmap](./images/example1_hmap.png)"
   ]
  },
  {
   "cell_type": "markdown",
   "id": "54c5cf7f",
   "metadata": {},
   "source": [
    "## Deconvolution"
   ]
  },
  {
   "cell_type": "code",
   "execution_count": null,
   "id": "c2a371b5",
   "metadata": {},
   "outputs": [],
   "source": [
    "function x_est = nbd_single(y, mfmap)\n",
    "% y: input blurred image\n",
    "% mfmap: input motion flow map\n",
    "\n",
    "mu = mfmap(:,:,1);\n",
    "mv = mfmap(:,:,2);\n",
    "\n",
    "[mag, ori]= motion2magori(-mv, mu);\n",
    "\n",
    "params.alpha = 1/2;\n",
    "params.mu = 0;\n",
    "params.maxIter_out = 1;\n",
    "params.maxIter_in = 5;\n",
    "params.useGPU = 0;\n",
    "\n",
    "kernelInit.mlhmag = mag;\n",
    "kernelInit.mlhori = ori;\n",
    "\n",
    "[x_est] = fast_deconv_nonUniform_gmmprior(y, y, [], params, kernelInit);\n",
    "\n",
    "end"
   ]
  },
  {
   "cell_type": "markdown",
   "id": "50ceea8a",
   "metadata": {},
   "source": [
    "![example1_result](./images/example1_result.png)"
   ]
  }
 ],
 "metadata": {
  "kernelspec": {
   "display_name": "Python 3",
   "language": "python",
   "name": "python3"
  },
  "language_info": {
   "codemirror_mode": {
    "name": "ipython",
    "version": 3
   },
   "file_extension": ".py",
   "mimetype": "text/x-python",
   "name": "python",
   "nbconvert_exporter": "python",
   "pygments_lexer": "ipython3",
   "version": "3.7.0"
  }
 },
 "nbformat": 4,
 "nbformat_minor": 5
}
