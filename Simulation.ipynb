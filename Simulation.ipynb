{
 "cells": [
  {
   "cell_type": "markdown",
   "metadata": {},
   "source": [
    "# Simulation von Motion-Flow-Maps"
   ]
  },
  {
   "cell_type": "markdown",
   "metadata": {},
   "source": [
    "<br>**Simulation von Motion-Flow-Maps zur Datengenerierung**\n",
    "\n",
    "Der Kern dieses Abschnitts besteht darin, einen Datensatz zu generieren, der realistische Unschärfemuster auf verschiedenen Bildern für das Training enthält.\n",
    "Obwohl zufällige Samples sehr unterschiedliche Trainingssamples erzeugen kann, da der realistische Motion Flow einige Eigenschaften wie die stückweise Glätte beibehält.\n",
    "So ist es das Ziel, eine Simulationsmethode zu schaffen, die Motion Flows erzeugen kann, die die natürlichen Eigenschaften der Bewegung in dem Prozess der Bilderstellung widerspiegelt. Obwohl die Objektbewegung in realen Bildern zu heterogenen Bewegungsunschärfen führen kann, simuliert diese Methode nur den Motion Flow durch Kamerabewegungen fürs Training des FCN. Trotzdem werden Daten, die von dieser Methode erzeugt wurden dem Machine-Learning-Modell auch eine gewisse Handhabung mit Objektbewegung verleihen.\n"
   ]
  },
  {
   "cell_type": "markdown",
   "metadata": {},
   "source": [
    "**Text in Stichpunkten:**"
   ]
  },
  {
   "cell_type": "markdown",
   "metadata": {},
   "source": [
    "- Es soll ein Datensatz generiert werden, der realistische Unschärfemuster auf verschiedenen Bildern für das Training enthält"
   ]
  },
  {
   "cell_type": "markdown",
   "metadata": {},
   "source": [
    "- Es soll eine Simulationsmethode geschaffen werden, die Motion Flows erzeugen kann, die die natürlichen Eigenschaften der Bewegung in dem Prozess bei der Bilderstellung widerspiegelt."
   ]
  },
  {
   "cell_type": "markdown",
   "metadata": {},
   "source": [
    "- Obwohl die Objektbewegung in realen Bildern zu heterogenen Bewegungsunschärfen führen kann, simuliert diese Methode nur den Motion Flow durch Kamerabewegungen fürs Training des FCN."
   ]
  },
  {
   "cell_type": "markdown",
   "metadata": {},
   "source": [
    "- Trotzdem werden Daten, die von dieser Methode erzeugt wurden dem Machine-Learning-Modell auch eine gewisse Handhabung mit Objektbewegung verleihen."
   ]
  },
  {
   "cell_type": "markdown",
   "metadata": {},
   "source": [
    "**Abbildung 5**![OBR5.PNG](./OBR5.PNG)"
   ]
  },
  {
   "cell_type": "markdown",
   "metadata": {},
   "source": [
    "Der Einfachheit halber wird ein 3D-Koordinatensystem generiert,\n",
    "wobei der Ursprung im optischen Zentrum der Kamera, die xy-Ebene\n",
    "auf die Ebene des Kamerasensors ausgerichtet ist und die z-Achse steht senkrecht zur xy-Ebene, wie in Abbildung 5 gezeigt. Da das\n",
    "Ziel der Motion Flow auf einem Bildraster ist, wird \n",
    "der simuliere Motion Flow , der auf ein 2D-Bild projiziert wird.\n",
    "Der simuliere Motion Flow wird direkt auf ein 2D-Bild projiziert, anstatt\n",
    "auf die 3D-Bewegungsbahn. In Anbetracht der Unklarheiten\n",
    "verursacht durch Drehungen um die x- und y-Achse, wird ein\n",
    "Motion Flow M durch Sampeling von vier additiven Komponenten simuliert:\n"
   ]
  },
  {
   "cell_type": "markdown",
   "metadata": {},
   "source": [
    "**Text in Stichpunkten:**"
   ]
  },
  {
   "cell_type": "markdown",
   "metadata": {},
   "source": [
    "- Einfachheit halber wird ein 3D-Koordinatensystem generiert,\n",
    "wobei der Ursprung im optischen Zentrum der Kamera, die xy-Ebene\n",
    "auf die Ebene des Kamerasensors ausgerichtet ist"
   ]
  },
  {
   "cell_type": "markdown",
   "metadata": {},
   "source": [
    "- die z-Achse steht senkrecht zur xy-Ebene"
   ]
  },
  {
   "cell_type": "markdown",
   "metadata": {},
   "source": [
    "- Ziel der Motion Flow auf einem Bildraster ist, wird \n",
    "der simuliere Motion Flow , der auf ein 2D-Bild projiziert wird.\n",
    "Der simuliere Motion Flow wird direkt auf ein 2D-Bild projiziert, anstatt\n",
    "auf die 3D-Bewegungsbahn."
   ]
  },
  {
   "cell_type": "markdown",
   "metadata": {},
   "source": [
    "$$ M = M_{T_x} + M_{T_y} + M_{T_z} + M_{R_z}$$"
   ]
  },
  {
   "cell_type": "markdown",
   "metadata": {},
   "source": [
    "wobei $M_{T_x}$, $M_{T_y}$ und $M_{T_z}$ die Motion Flows bezeichnet, die mit den Translationen entlang der $x$-, $y$- und $z$-Achse zusammenhängen.\n",
    "$M_{R_z}$ repräsentiert die Bewegung aus der Rotation um die z\n",
    "Achse. Jedes Element wird wie folgt generieren.\n",
    "\n"
   ]
  },
  {
   "cell_type": "markdown",
   "metadata": {},
   "source": [
    "**Translation entlang der $x$- oder $y$-Achse** <br>\n",
    "Als Beispiel beschreiben wir die Erzeugung von $M_{T_x}$. Wir tasten zunächst ein zentrales Pixel $p_{T_x}=(i_{T_x}, j_{T_x})$ auf der Bildebene ab, einen einfachen Bewegungswert $t_{T_x}$ und einen Beschleunigungskoeffizienten $r_{T_x}$. Dann\n",
    "kann $M_{T_x}=(U_{T_x}, V_{T_x})$  wie folgt generiert werden\n",
    "$U_{T_x}(i,j) = (i-i_{T_x})r_{T_x} + t_{T_x}, V_{T_x}(i,j) = 0$. $M_{T_y}$ kann\n",
    "auf ähnliche Weise erzeugt werden.\n"
   ]
  },
  {
   "cell_type": "markdown",
   "metadata": {},
   "source": [
    "**Text in Stichpunkten:**"
   ]
  },
  {
   "cell_type": "markdown",
   "metadata": {},
   "source": [
    "- zentral abgetastetes Pixel als Referenzpunkt $p_{T_x}=(i_{T_x}, j_{T_x})$"
   ]
  },
  {
   "cell_type": "markdown",
   "metadata": {},
   "source": [
    "- Beschleunigungskoeffizienten $r_{T_x}$ für die Beschleunigung der simulierten Bewegung"
   ]
  },
  {
   "cell_type": "markdown",
   "metadata": {},
   "source": [
    "- Bewegungswert $t_{T_x}$ für die Weite der simulierten Bewegung"
   ]
  },
  {
   "cell_type": "markdown",
   "metadata": {},
   "source": [
    "$M_{T_x}=(U_{T_x}, V_{T_x})$  kann wie folgt generiert werden"
   ]
  },
  {
   "cell_type": "markdown",
   "metadata": {},
   "source": [
    "$$U_{T_x}(i,j) = (i-i_{T_x})r_{T_x} + t_{T_x}$$"
   ]
  },
  {
   "cell_type": "markdown",
   "metadata": {},
   "source": [
    " $$V_{T_x}(i,j) = 0$$"
   ]
  },
  {
   "cell_type": "markdown",
   "metadata": {},
   "source": [
    "$M_{T_y}$ kann\n",
    "auf ähnliche Weise erzeugt werden mit $U_{T_x}(i,j) = 0$"
   ]
  },
  {
   "cell_type": "markdown",
   "metadata": {},
   "source": [
    "![xy_Axis.PNG](./xy_Axis.PNG)"
   ]
  },
  {
   "cell_type": "markdown",
   "metadata": {},
   "source": [
    "**Translation entlang der $z$-Achse**<br>\n",
    "Die Translation entlang der z-Achse verursacht normalerweise ein radiales Bewegungsunschärfemuster in Richtung des Fluchtpunkts. Indem man den semantischen Kontext ignoriert und ein\n",
    "einfaches radiales Muster annimmt, kann $M_{T_z}$ durch $U_{T_z}(i,j) = t_{T_z} d(i,j)^ζ (i-i_{T_z}), V_{T_z}(i,j) = t_{T_z} d(i,j)^ζ (j-j_{T_z})$ erzeugt werden, wobei\n",
    "$p_{T_z}$ einen abgetasteten Fluchtpunkt bezeichnet, $d(i,j) = \\|(i,j)-p_{T_z}\\|_2$ ist der Abstand von einem beliebigen Pixel $(i,j)$ zum Fluchtpunkt, ζ und $t_{T_z}$ werden verwendet, um die Form des radialen Musters zu steuern, welches die Bewegungsgeschwindigkeit widerspiegelt.\n"
   ]
  },
  {
   "cell_type": "markdown",
   "metadata": {},
   "source": [
    "**Text in Stichpunkten:**"
   ]
  },
  {
   "cell_type": "markdown",
   "metadata": {},
   "source": [
    " - $ζ , t_{T_z}$ steuern die Form des radialen Musters, welches die Bewegungsgeschwindigkeit widerspiegelt."
   ]
  },
  {
   "cell_type": "markdown",
   "metadata": {},
   "source": [
    " - Ein abgetasteten Fluchtpunkt $p_{T_z}$ bezeichnet"
   ]
  },
  {
   "cell_type": "markdown",
   "metadata": {},
   "source": [
    "- Der Abstand von einem beliebigen Pixel $(i,j)$ zum Fluchtpunkt: $d(i,j) = \\|(i,j)-p_{T_z}\\|_2$"
   ]
  },
  {
   "cell_type": "markdown",
   "metadata": {},
   "source": [
    "$$U_{T_z}(i,j) = t_{T_z} d(i,j)^ζ (i-i_{T_z})$$"
   ]
  },
  {
   "cell_type": "markdown",
   "metadata": {},
   "source": [
    " $$V_{T_z}(i,j) = t_{T_z} d(i,j)^ζ (j-j_{T_z})$$"
   ]
  },
  {
   "cell_type": "markdown",
   "metadata": {},
   "source": []
  },
  {
   "cell_type": "markdown",
   "metadata": {},
   "source": [
    "![z_axis.PNG](./z_axis.PNG)"
   ]
  },
  {
   "cell_type": "markdown",
   "metadata": {},
   "source": [
    "**Rotation um die z-Achse**<br>\n",
    "Wir tasten zunächst ein Rotationszentrum $p_{R_z}$ und eine Winkelgeschwindigkeit $\\omega$ ab, wobei $\\omega>0$ die Drehung im Uhrzeigersinn bezeichnet. Sei $s(i,j)=2d(i,j)tan(\\omega/2)$. Die Bewegungsgröße an jedem Pixel ist $s(i,j)=2d(i,j)\\tan(\\omega/2)$. Indem $\\theta(i,j)=\\text{atan}[(i-i_{R_z})/(j-j_{R_z})] \\in [-\\pi, \\pi]$, Bewegungsvektor am Pixel $(i, j)$ kann als $\\theta(i,j)=\\text{atan}[(i-i_{R_z})/(j-j_{R_z})] \\in [-\\pi, \\pi]$ erzeugt werden;  $U_{R_z}(i,j) = s(i,j) \\cos(\\theta(i,j)-\\pi/2), V_{R_z}(i,j) = s(i,j) \\sin(\\theta(i,j)-\\pi/2)$.\n",
    "Wir setzen einheitliche Prioritäten über alle Parameter, die der Motion-Flow-Simulation entsprechen, als $\\text{Uniform}(\\alpha, \\beta)$.\n",
    "Hinweis: Die vier Komponenten werden in kontinuierlicher Domäne simuliert und werden dann als ganze Zahlen diskretisiert.\n"
   ]
  },
  {
   "cell_type": "markdown",
   "metadata": {},
   "source": [
    "**Text in Stichpunkten:**"
   ]
  },
  {
   "cell_type": "markdown",
   "metadata": {},
   "source": [
    "- Rotationszentrum $p_{R_z}$, ist das Zentrum der Drehbewegung"
   ]
  },
  {
   "cell_type": "markdown",
   "metadata": {},
   "source": [
    "- Winkelgeschwindigkeit $\\omega$, wird festgelegt und spiegelt die Geschwindigkeit der Drehung wider "
   ]
  },
  {
   "cell_type": "markdown",
   "metadata": {},
   "source": [
    "- $\\omega>0$ steht für die Drehung im Uhrzeigersinn"
   ]
  },
  {
   "cell_type": "markdown",
   "metadata": {},
   "source": [
    "- Die Bewegungsgröße an jedem Pixel ist $s(i,j)=2d(i,j)tan(\\omega/2)$, d.h. wie weit wird gedreht"
   ]
  },
  {
   "cell_type": "markdown",
   "metadata": {},
   "source": [
    "- Bewegungsvektor am Pixel $(i, j)$"
   ]
  },
  {
   "cell_type": "markdown",
   "metadata": {},
   "source": [
    "- $\\theta(i,j)=\\text{atan}[(i-i_{R_z})/(j-j_{R_z})] \\in [-\\pi, \\pi]$ beinhaltet die Differenz vom aktuellen Pixel zum Rotationszentrum"
   ]
  },
  {
   "cell_type": "markdown",
   "metadata": {},
   "source": [
    "- $M_{R_z}=(U_{R_z}, V_{R_z})$  kann wie folgt generiert werden"
   ]
  },
  {
   "cell_type": "markdown",
   "metadata": {},
   "source": [
    "$$U_{R_z}(i,j) = s(i,j) \\cos(\\theta(i,j)-\\pi/2)$$"
   ]
  },
  {
   "cell_type": "markdown",
   "metadata": {},
   "source": [
    "$$V_{R_z}(i,j) = s(i,j) \\sin(\\theta(i,j)-\\pi/2)$$"
   ]
  },
  {
   "cell_type": "markdown",
   "metadata": {},
   "source": [
    "![z_rotation.PNG](./z_rotation.PNG)"
   ]
  },
  {
   "cell_type": "markdown",
   "metadata": {},
   "source": [
    "**Erstellung vom Trainingsdatensatz**<br>\n",
    "Es wurden 200 Trainingsbilder mit Größen um $300\\times 460$ aus dem Datensatz BSD500\n",
    "als unser Bildersatz mit scharfen Bildern $\\{X^n\\}$ verwendet. Wir simulieren dann unabhängig 10.000 Motionflow-Maps $\\{M^t\\}$ mit Reichweiten von $u_{max}=v_{max}=36$ und weisen jedem  $X^n$ 50 Motion Flow-Maps zu ohne Duplizierung. Die nicht verunschärften Bilder $\\{X^n\\}$ mit\n",
    "$U(i,j)=0$ und $V(i,j)=0$, $\\forall i,j$ werden zum Training verwendet.\n",
    "Als Ergebnis haben wir einen Datensatz mit 10.200 Bewegungsunschärfe-MotionFlow-Paaren $\\{Y^t, M^t\\}$ für das Training.\n"
   ]
  },
  {
   "cell_type": "markdown",
   "metadata": {},
   "source": [
    "**Text in Stichpunkten:**"
   ]
  },
  {
   "cell_type": "markdown",
   "metadata": {},
   "source": [
    "- Verwendet wurden 200 Trainingsbilder mit Größen um $300\\times 460$ aus dem Datensatz BSD500"
   ]
  },
  {
   "cell_type": "markdown",
   "metadata": {},
   "source": [
    "- 10.000 Motionflow-Maps $\\{M^t\\}$ mit Reichweiten von $u_{max}=v_{max}=36$ wurden geschätzt"
   ]
  },
  {
   "cell_type": "markdown",
   "metadata": {},
   "source": [
    "- Aus jedem  $X^n$ wurden 50 Motion Flow-Maps ohne Duplizierung simuliert"
   ]
  },
  {
   "cell_type": "markdown",
   "metadata": {},
   "source": [
    "- Insgesamt 10.200 Bewegungsunschärfe-MotionFlow-Paaren"
   ]
  }
 ],
 "metadata": {
  "kernelspec": {
   "display_name": "Python 3",
   "language": "python",
   "name": "python3"
  },
  "language_info": {
   "codemirror_mode": {
    "name": "ipython",
    "version": 3
   },
   "file_extension": ".py",
   "mimetype": "text/x-python",
   "name": "python",
   "nbconvert_exporter": "python",
   "pygments_lexer": "ipython3",
   "version": "3.7.0"
  }
 },
 "nbformat": 4,
 "nbformat_minor": 4
}
