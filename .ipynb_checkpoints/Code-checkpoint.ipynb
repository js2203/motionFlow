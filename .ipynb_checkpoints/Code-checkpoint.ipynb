{
 "cells": [
  {
   "cell_type": "markdown",
   "id": "2bcc9f96",
   "metadata": {},
   "source": [
    "# Code"
   ]
  },
  {
   "cell_type": "markdown",
   "id": "720e0154",
   "metadata": {},
   "source": [
    "## Motion Flow berechnen"
   ]
  },
  {
   "cell_type": "code",
   "execution_count": null,
   "id": "97528755",
   "metadata": {},
   "outputs": [],
   "source": [
    "import caffe\n",
    "import sys, os\n",
    "import numpy as np\n",
    "import scipy.io\n",
    "from PIL import Image\n",
    "from sklearn.preprocessing import LabelEncoder\n",
    "import timeit\n",
    "\n",
    "model = 'model/fcn_blur2mflow.caffemodel'\n",
    "img_mean = (111.64, 113.53, 93.96)\n",
    "net = caffe.Net('model/fcn_blur2mflow.prototxt', model, caffe.TEST)\n",
    "\n",
    "le_u = LabelEncoder()\n",
    "le_v = LabelEncoder()\n",
    "le_u.classes_ = np.loadtxt('model/labels_u.txt')\n",
    "le_v.classes_ = np.loadtxt('model/labels_v.txt')\n",
    "\n",
    "# load image, switch to BGR, subtract mean, and make dims C x H x W for Caffe\n",
    "im = Image.open(sys.argv[1])\n",
    "in_ = np.array(im, dtype=np.float32)\n",
    "in_ = in_[:,:,::-1]\n",
    "in_ -= img_mean\n",
    "in_ = in_.transpose((2,0,1))\n",
    "\n",
    "# shape for input (data blob is N x C x H x W), set data\n",
    "net.blobs['data'].reshape(1, *in_.shape)\n",
    "net.blobs['data'].data[...] = in_\n",
    "# run net and take argmax for prediction\n",
    "net.forward()\n",
    "mf1 = net.blobs['score1'].data[0].argmax(0)\n",
    "mf2 = net.blobs['score2'].data[0].argmax(0)\n",
    "\n",
    "mf1 = le_u.inverse_transform(mf1.flatten()).reshape(mf1.shape)\n",
    "mf2 = le_v.inverse_transform(mf2.flatten()).reshape(mf2.shape)\n",
    "\n",
    "mfmap = np.stack((mf1, mf2)).transpose((1, 2, 0))\n",
    "\n",
    "\n",
    "scipy.io.savemat(sys.argv[2], {'mfmap': mfmap})"
   ]
  },
  {
   "cell_type": "markdown",
   "id": "54c5cf7f",
   "metadata": {},
   "source": [
    "## Deconvolution"
   ]
  },
  {
   "cell_type": "code",
   "execution_count": null,
   "id": "c2a371b5",
   "metadata": {},
   "outputs": [],
   "source": [
    "function x_est = nbd_single(y, mfmap)\n",
    "% y: input blurred image\n",
    "% mfmap: input motion flow map\n",
    "\n",
    "mu = mfmap(:,:,1);\n",
    "mv = mfmap(:,:,2);\n",
    "\n",
    "[mag, ori]= motion2magori(-mv, mu);\n",
    "\n",
    "params.alpha = 1/2;\n",
    "params.mu = 0;\n",
    "params.maxIter_out = 1;\n",
    "params.maxIter_in = 5;\n",
    "params.useGPU = 0;\n",
    "\n",
    "kernelInit.mlhmag = mag;\n",
    "kernelInit.mlhori = ori;\n",
    "\n",
    "[x_est] = fast_deconv_nonUniform_gmmprior(y, y, [], params, kernelInit);\n",
    "\n",
    "end"
   ]
  }
 ],
 "metadata": {
  "kernelspec": {
   "display_name": "Python 3",
   "language": "python",
   "name": "python3"
  },
  "language_info": {
   "codemirror_mode": {
    "name": "ipython",
    "version": 3
   },
   "file_extension": ".py",
   "mimetype": "text/x-python",
   "name": "python",
   "nbconvert_exporter": "python",
   "pygments_lexer": "ipython3",
   "version": "3.7.0"
  }
 },
 "nbformat": 4,
 "nbformat_minor": 5
}
